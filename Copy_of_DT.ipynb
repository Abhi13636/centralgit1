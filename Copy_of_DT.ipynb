{
  "nbformat": 4,
  "nbformat_minor": 0,
  "metadata": {
    "colab": {
      "provenance": [],
      "collapsed_sections": [],
      "authorship_tag": "ABX9TyO4OHOcMJJgDFymniTEB7c/",
      "include_colab_link": true
    },
    "kernelspec": {
      "name": "python3",
      "display_name": "Python 3"
    },
    "language_info": {
      "name": "python"
    }
  },
  "cells": [
    {
      "cell_type": "markdown",
      "metadata": {
        "id": "view-in-github",
        "colab_type": "text"
      },
      "source": [
        "<a href=\"https://colab.research.google.com/github/Abhi13636/centralgit1/blob/master/Copy_of_DT.ipynb\" target=\"_parent\"><img src=\"https://colab.research.google.com/assets/colab-badge.svg\" alt=\"Open In Colab\"/></a>"
      ]
    },
    {
      "cell_type": "code",
      "source": [
        "from sklearn import datasets\n",
        "from sklearn.tree import DecisionTreeClassifier\n",
        "from sklearn.model_selection import train_test_split"
      ],
      "metadata": {
        "id": "wHzfQjslT0mn"
      },
      "execution_count": null,
      "outputs": []
    },
    {
      "cell_type": "code",
      "source": [
        "iris=datasets.load_iris()\n",
        "x=iris.data\n",
        "y=iris.target"
      ],
      "metadata": {
        "id": "n2JVjBR1Zr6u"
      },
      "execution_count": null,
      "outputs": []
    },
    {
      "cell_type": "code",
      "source": [
        "print(x.shape)#it will give me the dimensions of the x\n",
        "print(y.shape)#it will give me the dimensions of the y"
      ],
      "metadata": {
        "colab": {
          "base_uri": "https://localhost:8080/"
        },
        "id": "NlpFgGyMaABF",
        "outputId": "ac216dd8-9284-48b9-c551-85ac592f6806"
      },
      "execution_count": null,
      "outputs": [
        {
          "output_type": "stream",
          "name": "stdout",
          "text": [
            "(150, 4)\n",
            "(150,)\n"
          ]
        }
      ]
    },
    {
      "cell_type": "code",
      "source": [
        "x_train, x_test, y_train, y_test= train_test_split(x,y)"
      ],
      "metadata": {
        "id": "qHz5mp15bC0k"
      },
      "execution_count": null,
      "outputs": []
    },
    {
      "cell_type": "code",
      "source": [
        "alg = DecisionTreeClassifier()"
      ],
      "metadata": {
        "id": "VYTTvbd7bSGX"
      },
      "execution_count": null,
      "outputs": []
    },
    {
      "cell_type": "code",
      "source": [
        "alg.fit(x_train,y_train)"
      ],
      "metadata": {
        "colab": {
          "base_uri": "https://localhost:8080/"
        },
        "id": "Y4y6hyR4b6Fy",
        "outputId": "fe13c7d9-8265-4b2a-d713-49cd14451236"
      },
      "execution_count": null,
      "outputs": [
        {
          "output_type": "execute_result",
          "data": {
            "text/plain": [
              "DecisionTreeClassifier()"
            ]
          },
          "metadata": {},
          "execution_count": 22
        }
      ]
    },
    {
      "cell_type": "code",
      "source": [
        "y_train_pred = alg.predict(x_train)\n",
        "y_test_pred = alg.predict(x_test)\n",
        "print(y_train_pred)\n",
        "print(y_test_pred)"
      ],
      "metadata": {
        "colab": {
          "base_uri": "https://localhost:8080/"
        },
        "id": "2FCYctX1cSVf",
        "outputId": "849612d1-e28d-48f5-900f-a2755b32914f"
      },
      "execution_count": null,
      "outputs": [
        {
          "output_type": "stream",
          "name": "stdout",
          "text": [
            "[2 1 1 2 0 2 2 0 0 1 1 0 0 2 1 2 2 0 0 1 2 2 1 2 1 0 2 1 0 1 0 1 0 0 1 1 2\n",
            " 2 0 1 2 2 1 0 1 1 0 2 2 0 2 2 2 2 0 1 1 2 0 2 0 1 0 1 1 1 1 0 1 2 2 0 2 0\n",
            " 2 1 2 0 1 0 1 0 0 2 2 0 2 0 1 0 1 1 2 2 0 2 1 0 2 0 2 0 0 0 1 2 1 0 1 1 2\n",
            " 2]\n",
            "[0 0 0 0 1 2 1 0 2 1 0 0 0 2 1 1 2 0 1 2 1 0 1 1 1 1 1 2 2 0 2 1 1 0 1 0 2\n",
            " 2]\n"
          ]
        }
      ]
    },
    {
      "cell_type": "code",
      "source": [
        "from sklearn.metrics import confusion_matrix\n",
        "confusion_matrix(y_train, y_train_pred)\n",
        "#from sklearn.metrics import classification_report(y_test, y_test_pres)"
      ],
      "metadata": {
        "colab": {
          "base_uri": "https://localhost:8080/"
        },
        "id": "WHshbkgnc9V8",
        "outputId": "44a86397-dbb1-49fe-cc88-b54be340a291"
      },
      "execution_count": null,
      "outputs": [
        {
          "output_type": "execute_result",
          "data": {
            "text/plain": [
              "array([[37,  0,  0],\n",
              "       [ 0, 36,  0],\n",
              "       [ 0,  0, 39]])"
            ]
          },
          "metadata": {},
          "execution_count": 25
        }
      ]
    },
    {
      "cell_type": "code",
      "source": [
        "from sklearn.metrics import classification_report\n",
        "confusion_matrix(y_test, y_test_pred)"
      ],
      "metadata": {
        "colab": {
          "base_uri": "https://localhost:8080/"
        },
        "id": "W7SK_eFydin5",
        "outputId": "8c0b6fb4-6602-4b9a-9f65-613643f156c4"
      },
      "execution_count": null,
      "outputs": [
        {
          "output_type": "execute_result",
          "data": {
            "text/plain": [
              "array([[13,  0,  0],\n",
              "       [ 0, 13,  1],\n",
              "       [ 0,  2,  9]])"
            ]
          },
          "metadata": {},
          "execution_count": 26
        }
      ]
    },
    {
      "cell_type": "code",
      "source": [
        "print(classification_report(y_test,y_test_pred))\n",
        "#f1-score is giving me the single value for the precision and recall and it is the harmonic mean of the precision and recall."
      ],
      "metadata": {
        "colab": {
          "base_uri": "https://localhost:8080/"
        },
        "id": "rHrigV6Id2tx",
        "outputId": "427c6f99-b2c3-4674-a1dd-8e81447f256e"
      },
      "execution_count": null,
      "outputs": [
        {
          "output_type": "stream",
          "name": "stdout",
          "text": [
            "              precision    recall  f1-score   support\n",
            "\n",
            "           0       1.00      1.00      1.00        13\n",
            "           1       0.87      0.93      0.90        14\n",
            "           2       0.90      0.82      0.86        11\n",
            "\n",
            "    accuracy                           0.92        38\n",
            "   macro avg       0.92      0.92      0.92        38\n",
            "weighted avg       0.92      0.92      0.92        38\n",
            "\n"
          ]
        }
      ]
    }
  ]
}